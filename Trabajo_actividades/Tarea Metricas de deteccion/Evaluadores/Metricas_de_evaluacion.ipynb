{
 "cells": [
  {
   "cell_type": "code",
   "execution_count": 1,
   "metadata": {},
   "outputs": [],
   "source": [
    "import warnings\n",
    "import pandas as pd\n",
    "from sklearn import model_selection\n",
    "from sklearn.linear_model import LogisticRegression\n",
    "from sklearn.metrics import confusion_matrix\n",
    "import matplotlib.pyplot as plt\n",
    "#%matplotlib inline  \n"
   ]
  },
  {
   "cell_type": "markdown",
   "metadata": {},
   "source": [
    "Matriz de confusion"
   ]
  },
  {
   "cell_type": "code",
   "execution_count": 3,
   "metadata": {},
   "outputs": [
    {
     "name": "stdout",
     "output_type": "stream",
     "text": [
      "[[13  0  0]\n",
      " [ 0 17  2]\n",
      " [ 0  0 18]]\n"
     ]
    },
    {
     "data": {
      "image/png": "[encoded data removed]",
      "text/plain": [
       "<Figure size 432x288 with 2 Axes>"
      ]
     },
     "metadata": {
      "needs_background": "light"
     },
     "output_type": "display_data"
    }
   ],
   "source": [
    "#ignore warnings\n",
    "warnings.filterwarnings('ignore')\n",
    "# Load digits dataset\n",
    "url = \"http://archive.ics.uci.edu/ml/machine-learning-databases/iris/iris.data\"\n",
    "df = pd.read_csv(url)\n",
    "# df = df.values\n",
    "X = df.iloc[:,0:4]\n",
    "y = df.iloc[:,4]\n",
    "#test size\n",
    "test_size = 0.33\n",
    "#generate the same set of random numbers\n",
    "seed = 7\n",
    "#Split data into train and test set. \n",
    "X_train, X_test, y_train, y_test = model_selection.train_test_split(X, y, test_size=test_size, random_state=seed)\n",
    "#Train Model\n",
    "model = LogisticRegression()\n",
    "model.fit(X_train, y_train)\n",
    "pred = model.predict(X_test)\n",
    "\n",
    "#Construct the Confusion Matrix\n",
    "labels = ['Iris-setosa', 'Iris-versicolor', 'Iris-virginica']\n",
    "cm = confusion_matrix(y_test, pred, labels)\n",
    "print(cm)\n",
    "fig = plt.figure()\n",
    "ax = fig.add_subplot(111)\n",
    "cax = ax.matshow(cm)\n",
    "plt.title('Confusion matrix')\n",
    "fig.colorbar(cax)\n",
    "ax.set_xticklabels([''] + labels)\n",
    "ax.set_yticklabels([''] + labels)\n",
    "plt.xlabel('Predicted Values')\n",
    "plt.ylabel('Actual Values')\n",
    "plt.show()"
   ]
  },
  {
   "cell_type": "markdown",
   "metadata": {},
   "source": [
    "Exactitud del modelo"
   ]
  },
  {
   "cell_type": "code",
   "execution_count": 5,
   "metadata": {},
   "outputs": [
    {
     "name": "stdout",
     "output_type": "stream",
     "text": [
      "Accuracy - val set: 96.67% (0.05)\n",
      "Accuracy - test set: 92.00%\n"
     ]
    }
   ],
   "source": [
    "#import modules\n",
    "import warnings\n",
    "import pandas as pd\n",
    "import numpy as np\n",
    "from sklearn import model_selection\n",
    "from sklearn.linear_model import LogisticRegression\n",
    "from sklearn import datasets\n",
    "from sklearn.metrics import accuracy_score\n",
    "\n",
    "#ignore warnings\n",
    "warnings.filterwarnings('ignore')  # Ignora las advertencias para mantener el resultado más limpio\n",
    "\n",
    "# Load iris dataset\n",
    "iris = datasets.load_iris()  # Carga el conjunto de datos Iris\n",
    "\n",
    "# Create feature matrix\n",
    "X = iris.data  # Crea la matriz de características (datos de entrada)\n",
    "\n",
    "# Create target vector\n",
    "y = iris.target  # Crea el vector de destino (etiquetas de clase)\n",
    "\n",
    "# Test size\n",
    "test_size = 0.33  # Tamaño del conjunto de prueba (33% de los datos se utilizarán para pruebas)\n",
    "\n",
    "# Generate the same set of random numbers\n",
    "seed = 7  # Semilla para generar números aleatorios, asegura la reproducibilidad de los resultados\n",
    "\n",
    "# Cross-validation settings with shuffle=True\n",
    "kfold = model_selection.KFold(n_splits=10, shuffle=True, random_state=seed)  # Configuración de validación cruzada con mezcla aleatoria de datos\n",
    "\n",
    "# Model instance\n",
    "model = LogisticRegression()  # Crea una instancia del modelo de regresión logística\n",
    "\n",
    "# Evaluate model performance\n",
    "scoring = 'accuracy'  # Métrica de evaluación del modelo (precisión)\n",
    "results = model_selection.cross_val_score(model, X, y, cv=kfold, scoring=scoring)  # Evalúa el rendimiento del modelo mediante validación cruzada\n",
    "print('Accuracy - val set: %.2f%% (%.2f)' % (results.mean()*100, results.std()))  # Imprime la precisión media y la desviación estándar en el conjunto de validación\n",
    "\n",
    "# Split data\n",
    "X_train, X_test, y_train, y_test = model_selection.train_test_split(X, y, test_size=test_size, random_state=seed)  # Divide los datos en conjuntos de entrenamiento y prueba\n",
    "\n",
    "# Fit model\n",
    "model.fit(X_train, y_train)  # Entrena el modelo con los datos de entrenamiento\n",
    "\n",
    "# Accuracy on test set\n",
    "result = model.score(X_test, y_test)  # Calcula la precisión del modelo en el conjunto de prueba\n",
    "print(\"Accuracy - test set: %.2f%%\" % (result*100.0))  # Imprime la precisión del modelo en el conjunto de prueba\n"
   ]
  },
  {
   "cell_type": "markdown",
   "metadata": {},
   "source": [
    "Puntuación F1"
   ]
  },
  {
   "cell_type": "code",
   "execution_count": 8,
   "metadata": {},
   "outputs": [
    {
     "name": "stdout",
     "output_type": "stream",
     "text": [
      "Precision: 0.701493\n",
      "Recall: 0.552941\n",
      "F1 score: 0.618421\n"
     ]
    }
   ],
   "source": [
    "import warnings\n",
    "import pandas\n",
    "from sklearn import model_selection\n",
    "from sklearn.linear_model import LogisticRegression\n",
    "from sklearn.metrics import log_loss\n",
    "from sklearn.metrics import precision_recall_fscore_support as score, precision_score, recall_score, f1_score\n",
    "\n",
    "warnings.filterwarnings('ignore')\n",
    "\n",
    "url = \"https://raw.githubusercontent.com/jbrownlee/Datasets/master/pima-indians-diabetes.data.csv\"\n",
    "dataframe = pandas.read_csv(url)\n",
    "dat = dataframe.values\n",
    "X = dat[:,:-1]\n",
    "y = dat[:,-1]\n",
    "test_size = 0.33\n",
    "seed = 7\n",
    "\n",
    "model = LogisticRegression()\n",
    "#split data\n",
    "X_train, X_test, y_train, y_test = model_selection.train_test_split(X, y, test_size=test_size, random_state=seed)\n",
    "model.fit(X_train, y_train)\n",
    "pred = model.predict(X_test)\n",
    "precision = precision_score(y_test, pred)\n",
    "print('Precision: %f' % precision)\n",
    "# recall: tp / (tp + fn)\n",
    "recall = recall_score(y_test, pred)\n",
    "print('Recall: %f' % recall)\n",
    "# f1: tp / (tp + fp + fn)\n",
    "f1 = f1_score(y_test, pred)\n",
    "print('F1 score: %f' % f1)"
   ]
  },
  {
   "cell_type": "markdown",
   "metadata": {},
   "source": [
    "Curva de características operativas del receptor"
   ]
  },
  {
   "cell_type": "code",
   "execution_count": 9,
   "metadata": {},
   "outputs": [
    {
     "name": "stdout",
     "output_type": "stream",
     "text": [
      "AUC - Test Set: 82.85%\n"
     ]
    },
    {
     "data": {
      "image/png": "[encoded data removed]",
      "text/plain": [
       "<Figure size 432x288 with 1 Axes>"
      ]
     },
     "metadata": {
      "needs_background": "light"
     },
     "output_type": "display_data"
    }
   ],
   "source": [
    "import warnings\n",
    "import pandas\n",
    "from sklearn import model_selection\n",
    "from sklearn.linear_model import LogisticRegression\n",
    "from sklearn.metrics import roc_auc_score, roc_curve\n",
    "\n",
    "warnings.filterwarnings('ignore')\n",
    "\n",
    "url = \"https://raw.githubusercontent.com/jbrownlee/Datasets/master/pima-indians-diabetes.data.csv\"\n",
    "dataframe = pandas.read_csv(url)\n",
    "dat = dataframe.values\n",
    "X = dat[:,:-1]\n",
    "y = dat[:,-1]\n",
    "seed = 7\n",
    "#split data\n",
    "X_train, X_test, y_train, y_test = model_selection.train_test_split(X, y, test_size=test_size, random_state=seed)\n",
    "model.fit(X_train, y_train)\n",
    "\n",
    "# predict probabilities\n",
    "probs = model.predict_proba(X_test)\n",
    "# keep probabilities for the positive outcome only\n",
    "probs = probs[:, 1]\n",
    "\n",
    "auc = roc_auc_score(y_test, probs)\n",
    "print('AUC - Test Set: %.2f%%' % (auc*100))\n",
    "\n",
    "# calculate roc curve\n",
    "fpr, tpr, thresholds = roc_curve(y_test, probs)\n",
    "# plot no skill\n",
    "plt.plot([0, 1], [0, 1], linestyle='--')\n",
    "# plot the roc curve for the model\n",
    "plt.plot(fpr, tpr, marker='.')\n",
    "plt.xlabel('False positive rate')\n",
    "plt.ylabel('Sensitivity/ Recall')\n",
    "# show the plot\n",
    "plt.show()"
   ]
  },
  {
   "cell_type": "markdown",
   "metadata": {},
   "source": [
    "Pérdida logaritmica "
   ]
  },
  {
   "cell_type": "code",
   "execution_count": 10,
   "metadata": {},
   "outputs": [
    {
     "name": "stdout",
     "output_type": "stream",
     "text": [
      "Logloss: 7.89\n"
     ]
    }
   ],
   "source": [
    "#Classification LogLoss\n",
    "import warnings\n",
    "import pandas\n",
    "from sklearn import model_selection\n",
    "from sklearn.linear_model import LogisticRegression\n",
    "from sklearn.metrics import log_loss\n",
    "\n",
    "warnings.filterwarnings('ignore')\n",
    "url = \"https://raw.githubusercontent.com/jbrownlee/Datasets/master/pima-indians-diabetes.data.csv\"\n",
    "dataframe = pandas.read_csv(url)\n",
    "dat = dataframe.values\n",
    "X = dat[:,:-1]\n",
    "y = dat[:,-1]\n",
    "seed = 7\n",
    "#split data\n",
    "X_train, X_test, y_train, y_test = model_selection.train_test_split(X, y, test_size=test_size, random_state=seed)\n",
    "model.fit(X_train, y_train)\n",
    "#predict and compute logloss\n",
    "pred = model.predict(X_test)\n",
    "accuracy = log_loss(y_test, pred)\n",
    "print(\"Logloss: %.2f\" % (accuracy))\n"
   ]
  },
  {
   "cell_type": "markdown",
   "metadata": {},
   "source": [
    "Índice Jaccard"
   ]
  },
  {
   "cell_type": "code",
   "execution_count": 12,
   "metadata": {},
   "outputs": [
    {
     "name": "stdout",
     "output_type": "stream",
     "text": [
      "Jaccard Similarity Score : 0.375\n"
     ]
    }
   ],
   "source": [
    "import numpy as np\n",
    "\n",
    "def compute_jaccard_similarity_score(x, y):\n",
    "    intersection_cardinality = len(set(x).intersection(set(y)))\n",
    "    union_cardinality = len(set(x).union(set(y)))\n",
    "    return intersection_cardinality / float(union_cardinality)\n",
    "\n",
    "score = compute_jaccard_similarity_score(np.array([0, 1, 2, 5, 6]), np.array([0, 2, 3, 5, 7, 9]))\n",
    "print(\"Jaccard Similarity Score : %s\" %score)\n",
    "pass"
   ]
  },
  {
   "cell_type": "markdown",
   "metadata": {},
   "source": []
  },
  {
   "cell_type": "code",
   "execution_count": 14,
   "metadata": {},
   "outputs": [
    {
     "name": "stdout",
     "output_type": "stream",
     "text": [
      "Enter outcomes: \n",
      "[0.7103009008425007, 0.08925379202907713, 0.5046269447195019, 0.88507940219521, 0.9430640419050108, 0.8357506004013593, 0.10453378573530081, 0.049522923278651154, 0.644003359638795, 0.27213929433114636]\n",
      "KstestResult(statistic=0.5197487152622198, pvalue=0.004877713794629955)\n"
     ]
    }
   ],
   "source": [
    "from scipy.stats import kstest \n",
    "import random \n",
    "  \n",
    "# N = int(input(\"Enter number of random numbers: \")) \n",
    "N = 10\n",
    "  \n",
    "actual =[] \n",
    "print(\"Enter outcomes: \") \n",
    "  \n",
    "for i in range(N): \n",
    "    # x = float(input(\"Outcomes of class \"+str(i + 1)+\": \")) \n",
    "    actual.append(random.random()) \n",
    "  \n",
    "print(actual) \n",
    "x = kstest(actual, \"norm\")    \n",
    "print(x)"
   ]
  }
 ],
 "metadata": {
  "kernelspec": {
   "display_name": "myenv",
   "language": "python",
   "name": "python3"
  },
  "language_info": {
   "codemirror_mode": {
    "name": "ipython",
    "version": 3
   },
   "file_extension": ".py",
   "mimetype": "text/x-python",
   "name": "python",
   "nbconvert_exporter": "python",
   "pygments_lexer": "ipython3",
   "version": "3.6.13"
  }
 },
 "nbformat": 4,
 "nbformat_minor": 2
}
